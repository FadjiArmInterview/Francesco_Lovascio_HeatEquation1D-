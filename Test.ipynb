{
 "cells": [
  {
   "cell_type": "code",
   "execution_count": 9,
   "id": "7a2f0052",
   "metadata": {},
   "outputs": [],
   "source": [
    "import numpy as np \n",
    "import matplotlib.pyplot as plt \n",
    "import os \n",
    "import subprocess"
   ]
  },
  {
   "cell_type": "code",
   "execution_count": null,
   "id": "339fa9ed",
   "metadata": {},
   "outputs": [],
   "source": []
  },
  {
   "cell_type": "code",
   "execution_count": 12,
   "id": "4fd01754",
   "metadata": {},
   "outputs": [],
   "source": [
    "\"\"\" \n",
    "    The next step is to fetch the problem parameters from problem.ini.\n",
    "    We define a function which will do it.\n",
    "\"\"\"\n",
    "\n",
    "def read_parameters(filename):\n",
    "    #We define a dictionary to read key pair value\n",
    "    parameter= {}\n",
    "    #We need now to open filename\n",
    "    with open(filename) as file:\n",
    "        #I need now to read each line\n",
    "        for line in file:\n",
    "            if \"=\" in line:\n",
    "                key , value = line.strip().split(\"=\")\n",
    "                parameter[key.strip()] = np.float64(value.strip())\n",
    "\n",
    "    return parameter[\"x_min\"] , parameter[\"x_max\"] , parameter[\"delta_t\"], parameter[\"diffusion_coefficient\"]\n",
    "\n",
    "\n",
    "x_min , x_max , delta_t , diffusion_coefficient = read_parameters(\"./Setup/problem.ini\")\n"
   ]
  },
  {
   "cell_type": "code",
   "execution_count": 18,
   "id": "d24a4c57",
   "metadata": {},
   "outputs": [
    {
     "name": "stdout",
     "output_type": "stream",
     "text": [
      "0.0 1.0 0.00454545 1.0\n"
     ]
    }
   ],
   "source": [
    "#Once we get the parameter value we can then  computegenerate intial conditon\n",
    "print(x_min, x_max, delta_t, diffusion_coefficient)\n",
    "x= np.linspace(0,1,100)\n",
    "U_0 = np.sin(np.pi*x)\n",
    "#Since U_0 is now computed We write it to a init.dat file in bynary form\n",
    "U_0.astype(np.float64).tofile(\"./Setup/init.dat\")"
   ]
  },
  {
   "cell_type": "code",
   "execution_count": 21,
   "id": "a6bf66ea",
   "metadata": {},
   "outputs": [],
   "source": [
    "#Once the init.dat file is formed we can now run the heat_equation.exe\n",
    "result = subprocess.run([\"./Bin/heat_solver.exe\"])\n",
    "if( result.returncode !=0):\n",
    "    print(\"Execution fail\")\n",
    "    exit(1)\n",
    "#result allows us to have the Output\n",
    "\n"
   ]
  },
  {
   "cell_type": "code",
   "execution_count": 22,
   "id": "35c40e3c",
   "metadata": {},
   "outputs": [],
   "source": [
    "#Once the output is ready we need to add them into a single array.\n",
    "#First we sort ensure timestep consitency\n",
    "#By taking step vlaue between _ and . dat.\n",
    "\n",
    "output_files = sorted([f for f in os.listdir(\"./Output/\")\n",
    "                       if f.startswith(\"output_\") and f.endswith(\".dat\")],\n",
    "                       key= lambda name : int(name.split(\"_\")[1].split(\".\")[0])\n",
    "                       )\n",
    "\n",
    "#We check whether the outpufile is valid\n",
    "if not output_files:\n",
    "    print( \"outpufiles is empty\")\n",
    "    exit(1)"
   ]
  },
  {
   "cell_type": "code",
   "execution_count": null,
   "id": "235b7a48",
   "metadata": {},
   "outputs": [],
   "source": [
    "#Now that we sorted the output temperature into a outpufiles\n",
    "#We now fetch eaxch line , convert it back to double \n",
    "#and write it back to have an array of temperature\n",
    "Heat = []\n",
    "for file in output_files:\n",
    "        #We build the complete path\n",
    "        path = os.path.join(\"./Output\",file)\n",
    "        U = np.fromfile(path, dtype= np.float64)\n",
    "        Heat.append(U)\n",
    "\n",
    "heat= np.array(Heat)\n",
    "print(heat.shape)"
   ]
  }
 ],
 "metadata": {
  "kernelspec": {
   "display_name": "base",
   "language": "python",
   "name": "python3"
  },
  "language_info": {
   "codemirror_mode": {
    "name": "ipython",
    "version": 3
   },
   "file_extension": ".py",
   "mimetype": "text/x-python",
   "name": "python",
   "nbconvert_exporter": "python",
   "pygments_lexer": "ipython3",
   "version": "3.8.18"
  }
 },
 "nbformat": 4,
 "nbformat_minor": 5
}
